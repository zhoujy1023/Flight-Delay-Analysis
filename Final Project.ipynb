{
 "cells": [
  {
   "cell_type": "code",
   "execution_count": 46,
   "metadata": {},
   "outputs": [],
   "source": [
    "import pandas as pd\n",
    "import matplotlib.pyplot as plt\n",
    "import seaborn as sns\n",
    "import collections\n",
    "import numpy as np\n",
    "import statsmodels.api as sm\n",
    "from sklearn.model_selection import train_test_split\n",
    "from sklearn import preprocessing"
   ]
  },
  {
   "cell_type": "code",
   "execution_count": 47,
   "metadata": {},
   "outputs": [
    {
     "name": "stderr",
     "output_type": "stream",
     "text": [
      "/Users/zhou/opt/anaconda3/lib/python3.8/site-packages/IPython/core/interactiveshell.py:3071: DtypeWarning: Columns (5,6) have mixed types.Specify dtype option on import or set low_memory=False.\n",
      "  has_raised = await self.run_ast_nodes(code_ast.body, cell_name,\n"
     ]
    }
   ],
   "source": [
    "df = pd.read_csv('flights_refined.csv')"
   ]
  },
  {
   "cell_type": "code",
   "execution_count": 48,
   "metadata": {},
   "outputs": [
    {
     "name": "stdout",
     "output_type": "stream",
     "text": [
      "5819079\n"
     ]
    }
   ],
   "source": [
    "print(len(df))"
   ]
  },
  {
   "cell_type": "code",
   "execution_count": 28,
   "metadata": {},
   "outputs": [
    {
     "name": "stderr",
     "output_type": "stream",
     "text": [
      "<ipython-input-28-9b00d3fd67ed>:2: SettingWithCopyWarning: \n",
      "A value is trying to be set on a copy of a slice from a DataFrame\n",
      "\n",
      "See the caveats in the documentation: https://pandas.pydata.org/pandas-docs/stable/user_guide/indexing.html#returning-a-view-versus-a-copy\n",
      "  df2.dropna(axis=0,how = \"any\",inplace=True)\n"
     ]
    },
    {
     "data": {
      "text/html": [
       "<table class=\"simpletable\">\n",
       "<caption>OLS Regression Results</caption>\n",
       "<tr>\n",
       "  <th>Dep. Variable:</th>      <td>ARRIVAL_DELAY</td>  <th>  R-squared:         </th>  <td>   0.892</td>  \n",
       "</tr>\n",
       "<tr>\n",
       "  <th>Model:</th>                   <td>OLS</td>       <th>  Adj. R-squared:    </th>  <td>   0.892</td>  \n",
       "</tr>\n",
       "<tr>\n",
       "  <th>Method:</th>             <td>Least Squares</td>  <th>  F-statistic:       </th>  <td>4.739e+07</td> \n",
       "</tr>\n",
       "<tr>\n",
       "  <th>Date:</th>             <td>Sat, 22 May 2021</td> <th>  Prob (F-statistic):</th>   <td>  0.00</td>   \n",
       "</tr>\n",
       "<tr>\n",
       "  <th>Time:</th>                 <td>17:58:28</td>     <th>  Log-Likelihood:    </th> <td>-2.2712e+07</td>\n",
       "</tr>\n",
       "<tr>\n",
       "  <th>No. Observations:</th>      <td>5714008</td>     <th>  AIC:               </th>  <td>4.542e+07</td> \n",
       "</tr>\n",
       "<tr>\n",
       "  <th>Df Residuals:</th>          <td>5714006</td>     <th>  BIC:               </th>  <td>4.542e+07</td> \n",
       "</tr>\n",
       "<tr>\n",
       "  <th>Df Model:</th>              <td>     1</td>      <th>                     </th>      <td> </td>     \n",
       "</tr>\n",
       "<tr>\n",
       "  <th>Covariance Type:</th>      <td>nonrobust</td>    <th>                     </th>      <td> </td>     \n",
       "</tr>\n",
       "</table>\n",
       "<table class=\"simpletable\">\n",
       "<tr>\n",
       "         <td></td>            <th>coef</th>     <th>std err</th>      <th>t</th>      <th>P>|t|</th>  <th>[0.025</th>    <th>0.975]</th>  \n",
       "</tr>\n",
       "<tr>\n",
       "  <th>const</th>           <td>   -4.9404</td> <td>    0.006</td> <td> -888.981</td> <td> 0.000</td> <td>   -4.951</td> <td>   -4.929</td>\n",
       "</tr>\n",
       "<tr>\n",
       "  <th>DEPARTURE_DELAY</th> <td>    1.0057</td> <td>    0.000</td> <td> 6884.203</td> <td> 0.000</td> <td>    1.005</td> <td>    1.006</td>\n",
       "</tr>\n",
       "</table>\n",
       "<table class=\"simpletable\">\n",
       "<tr>\n",
       "  <th>Omnibus:</th>       <td>2101438.976</td> <th>  Durbin-Watson:     </th>   <td>   1.840</td>  \n",
       "</tr>\n",
       "<tr>\n",
       "  <th>Prob(Omnibus):</th>   <td> 0.000</td>    <th>  Jarque-Bera (JB):  </th> <td>22626989.674</td>\n",
       "</tr>\n",
       "<tr>\n",
       "  <th>Skew:</th>            <td> 1.463</td>    <th>  Prob(JB):          </th>   <td>    0.00</td>  \n",
       "</tr>\n",
       "<tr>\n",
       "  <th>Kurtosis:</th>        <td>12.299</td>    <th>  Cond. No.          </th>   <td>    39.2</td>  \n",
       "</tr>\n",
       "</table><br/><br/>Warnings:<br/>[1] Standard Errors assume that the covariance matrix of the errors is correctly specified."
      ],
      "text/plain": [
       "<class 'statsmodels.iolib.summary.Summary'>\n",
       "\"\"\"\n",
       "                            OLS Regression Results                            \n",
       "==============================================================================\n",
       "Dep. Variable:          ARRIVAL_DELAY   R-squared:                       0.892\n",
       "Model:                            OLS   Adj. R-squared:                  0.892\n",
       "Method:                 Least Squares   F-statistic:                 4.739e+07\n",
       "Date:                Sat, 22 May 2021   Prob (F-statistic):               0.00\n",
       "Time:                        17:58:28   Log-Likelihood:            -2.2712e+07\n",
       "No. Observations:             5714008   AIC:                         4.542e+07\n",
       "Df Residuals:                 5714006   BIC:                         4.542e+07\n",
       "Df Model:                           1                                         \n",
       "Covariance Type:            nonrobust                                         \n",
       "===================================================================================\n",
       "                      coef    std err          t      P>|t|      [0.025      0.975]\n",
       "-----------------------------------------------------------------------------------\n",
       "const              -4.9404      0.006   -888.981      0.000      -4.951      -4.929\n",
       "DEPARTURE_DELAY     1.0057      0.000   6884.203      0.000       1.005       1.006\n",
       "==============================================================================\n",
       "Omnibus:                  2101438.976   Durbin-Watson:                   1.840\n",
       "Prob(Omnibus):                  0.000   Jarque-Bera (JB):         22626989.674\n",
       "Skew:                           1.463   Prob(JB):                         0.00\n",
       "Kurtosis:                      12.299   Cond. No.                         39.2\n",
       "==============================================================================\n",
       "\n",
       "Warnings:\n",
       "[1] Standard Errors assume that the covariance matrix of the errors is correctly specified.\n",
       "\"\"\""
      ]
     },
     "execution_count": 28,
     "metadata": {},
     "output_type": "execute_result"
    }
   ],
   "source": [
    "df2 = df[[\"DEPARTURE_DELAY\",\"ARRIVAL_DELAY\"]]\n",
    "df2.dropna(axis=0,how = \"any\",inplace=True)\n",
    "X = df2['DEPARTURE_DELAY']\n",
    "Y = df2['ARRIVAL_DELAY']\n",
    "X = sm.add_constant(X)\n",
    "model = sm.OLS(Y, X).fit()\n",
    "Yhat = model.predict(X) \n",
    "model.summary()"
   ]
  },
  {
   "cell_type": "code",
   "execution_count": 286,
   "metadata": {
    "scrolled": true
   },
   "outputs": [],
   "source": [
    "df4 = df.copy()\n",
    "df4 = df4.loc[df4['AIRLINE'] == 'DL']\n",
    "df4 = df4.loc[df4['ORIGIN_AIRPORT'] == 'JFK']\n",
    "df4 = df4[['MONTH', 'DAY', 'DAY_OF_WEEK', 'DEPARTURE_TIME', 'DEPARTURE_DELAY','SCHEDULED_TIME','DISTANCE']]\n",
    "df4['Hour'] = pd.to_datetime(df4['DEPARTURE_TIME']).dt.hour\n",
    "df4['Minute'] = pd.to_datetime(df4['DEPARTURE_TIME']).dt.minute\n",
    "df4.loc[df4['DEPARTURE_DELAY'] < 5, 'y'] = 0\n",
    "df4.loc[df4['DEPARTURE_DELAY'] >= 5, 'y'] = 1\n",
    "df4 = df4.drop(['DEPARTURE_TIME','DEPARTURE_DELAY','SCHEDULED_TIME'], axis=1)\n",
    "df4 = df4.dropna()"
   ]
  },
  {
   "cell_type": "code",
   "execution_count": 287,
   "metadata": {},
   "outputs": [
    {
     "name": "stdout",
     "output_type": "stream",
     "text": [
      "Optimization terminated successfully.\n",
      "         Current function value: 0.579925\n",
      "         Iterations 5\n",
      "True positives: 864\n",
      "True negatives: 4390\n",
      "False positives: 608\n",
      "False negatives: 1669\n"
     ]
    },
    {
     "data": {
      "text/html": [
       "<table class=\"simpletable\">\n",
       "<caption>Logit Regression Results</caption>\n",
       "<tr>\n",
       "  <th>Dep. Variable:</th>           <td>y</td>        <th>  No. Observations:  </th>  <td> 17572</td> \n",
       "</tr>\n",
       "<tr>\n",
       "  <th>Model:</th>                 <td>Logit</td>      <th>  Df Residuals:      </th>  <td> 17565</td> \n",
       "</tr>\n",
       "<tr>\n",
       "  <th>Method:</th>                 <td>MLE</td>       <th>  Df Model:          </th>  <td>     6</td> \n",
       "</tr>\n",
       "<tr>\n",
       "  <th>Date:</th>            <td>Sun, 23 May 2021</td> <th>  Pseudo R-squ.:     </th>  <td>0.09299</td>\n",
       "</tr>\n",
       "<tr>\n",
       "  <th>Time:</th>                <td>07:08:54</td>     <th>  Log-Likelihood:    </th> <td> -10190.</td>\n",
       "</tr>\n",
       "<tr>\n",
       "  <th>converged:</th>             <td>True</td>       <th>  LL-Null:           </th> <td> -11235.</td>\n",
       "</tr>\n",
       "<tr>\n",
       "  <th>Covariance Type:</th>     <td>nonrobust</td>    <th>  LLR p-value:       </th>  <td> 0.000</td> \n",
       "</tr>\n",
       "</table>\n",
       "<table class=\"simpletable\">\n",
       "<tr>\n",
       "       <td></td>          <th>coef</th>     <th>std err</th>      <th>z</th>      <th>P>|z|</th>  <th>[0.025</th>    <th>0.975]</th>  \n",
       "</tr>\n",
       "<tr>\n",
       "  <th>const</th>       <td>   -2.1501</td> <td>    0.089</td> <td>  -24.263</td> <td> 0.000</td> <td>   -2.324</td> <td>   -1.976</td>\n",
       "</tr>\n",
       "<tr>\n",
       "  <th>MONTH</th>       <td>   -0.0963</td> <td>    0.005</td> <td>  -18.448</td> <td> 0.000</td> <td>   -0.106</td> <td>   -0.086</td>\n",
       "</tr>\n",
       "<tr>\n",
       "  <th>DAY</th>         <td>   -0.0032</td> <td>    0.002</td> <td>   -1.641</td> <td> 0.101</td> <td>   -0.007</td> <td>    0.001</td>\n",
       "</tr>\n",
       "<tr>\n",
       "  <th>DAY_OF_WEEK</th> <td>    0.0252</td> <td>    0.008</td> <td>    2.973</td> <td> 0.003</td> <td>    0.009</td> <td>    0.042</td>\n",
       "</tr>\n",
       "<tr>\n",
       "  <th>DISTANCE</th>    <td>    0.0001</td> <td> 2.24e-05</td> <td>    5.258</td> <td> 0.000</td> <td> 7.39e-05</td> <td>    0.000</td>\n",
       "</tr>\n",
       "<tr>\n",
       "  <th>Hour</th>        <td>    0.1452</td> <td>    0.004</td> <td>   38.743</td> <td> 0.000</td> <td>    0.138</td> <td>    0.153</td>\n",
       "</tr>\n",
       "<tr>\n",
       "  <th>Minute</th>      <td>   -0.0062</td> <td>    0.001</td> <td>   -6.681</td> <td> 0.000</td> <td>   -0.008</td> <td>   -0.004</td>\n",
       "</tr>\n",
       "</table>"
      ],
      "text/plain": [
       "<class 'statsmodels.iolib.summary.Summary'>\n",
       "\"\"\"\n",
       "                           Logit Regression Results                           \n",
       "==============================================================================\n",
       "Dep. Variable:                      y   No. Observations:                17572\n",
       "Model:                          Logit   Df Residuals:                    17565\n",
       "Method:                           MLE   Df Model:                            6\n",
       "Date:                Sun, 23 May 2021   Pseudo R-squ.:                 0.09299\n",
       "Time:                        07:08:54   Log-Likelihood:                -10190.\n",
       "converged:                       True   LL-Null:                       -11235.\n",
       "Covariance Type:            nonrobust   LLR p-value:                     0.000\n",
       "===============================================================================\n",
       "                  coef    std err          z      P>|z|      [0.025      0.975]\n",
       "-------------------------------------------------------------------------------\n",
       "const          -2.1501      0.089    -24.263      0.000      -2.324      -1.976\n",
       "MONTH          -0.0963      0.005    -18.448      0.000      -0.106      -0.086\n",
       "DAY            -0.0032      0.002     -1.641      0.101      -0.007       0.001\n",
       "DAY_OF_WEEK     0.0252      0.008      2.973      0.003       0.009       0.042\n",
       "DISTANCE        0.0001   2.24e-05      5.258      0.000    7.39e-05       0.000\n",
       "Hour            0.1452      0.004     38.743      0.000       0.138       0.153\n",
       "Minute         -0.0062      0.001     -6.681      0.000      -0.008      -0.004\n",
       "===============================================================================\n",
       "\"\"\""
      ]
     },
     "execution_count": 287,
     "metadata": {},
     "output_type": "execute_result"
    }
   ],
   "source": [
    "X_train, X_test, y_train, y_test = train_test_split(df4.drop('y',axis=1),df4['y'], test_size=0.30, random_state=100)\n",
    "X_train = sm.add_constant(X_train)\n",
    "X_test = sm.add_constant(X_test)\n",
    "delay = sm.Logit(y_train, X_train).fit()\n",
    "predictions = delay.predict(X_test) >= 0.5\n",
    "print(f'True positives: {((predictions == True) & (y_test == 1)).sum()}')\n",
    "print(f'True negatives: {((predictions == False) & (y_test == 0)).sum()}')\n",
    "print(f'False positives: {((predictions == True) & (y_test == 0)).sum()}')\n",
    "print(f'False negatives: {((predictions == False) & (y_test == 1)).sum()}')\n",
    "delay.summary()"
   ]
  },
  {
   "cell_type": "code",
   "execution_count": 288,
   "metadata": {},
   "outputs": [
    {
     "data": {
      "text/plain": [
       "array([[4390,  608],\n",
       "       [1669,  864]])"
      ]
     },
     "execution_count": 288,
     "metadata": {},
     "output_type": "execute_result"
    }
   ],
   "source": [
    "import sklearn.metrics\n",
    "sklearn.metrics.confusion_matrix(y_test, predictions)"
   ]
  },
  {
   "cell_type": "code",
   "execution_count": 289,
   "metadata": {},
   "outputs": [
    {
     "data": {
      "text/plain": [
       "Text(0, 0.5, 'TPR')"
      ]
     },
     "execution_count": 289,
     "metadata": {},
     "output_type": "execute_result"
    },
    {
     "data": {
      "image/png": "[encoded data removed]",
      "text/plain": [
       "<Figure size 432x288 with 1 Axes>"
      ]
     },
     "metadata": {
      "needs_background": "light"
     },
     "output_type": "display_data"
    }
   ],
   "source": [
    "positives = (y_test == 1).sum()\n",
    "negatives = (y_test == 0).sum()\n",
    "thresholds = [0, 0.1, 0.2, 0.3, 0.4, 0.5, 0.6, 0.7, 0.8, 0.9, 1]\n",
    "n = len(thresholds)\n",
    "fpr = [0]*n\n",
    "tpr = [0]*n\n",
    "for i in range(n):\n",
    "    predictions = delay.predict(X_test) >= thresholds[i]\n",
    "    true_positives = ((predictions == True) & (y_test == 1)).sum()\n",
    "    false_positives = ((predictions == True) & (y_test == 0)).sum()\n",
    "    fpr[i] = false_positives / negatives\n",
    "    tpr[i] = true_positives / positives\n",
    "\n",
    "plt.plot(fpr,tpr,'.-')\n",
    "plt.xlabel('FPR')\n",
    "plt.ylabel('TPR')"
   ]
  },
  {
   "cell_type": "code",
   "execution_count": 284,
   "metadata": {},
   "outputs": [],
   "source": [
    "df5 = df.copy()\n",
    "df5 = df5.loc[df5['AIRLINE'] == 'DL']\n",
    "df5 = df5.loc[df5['ORIGIN_AIRPORT'] == 'JFK']\n",
    "df5 = df5[['MONTH', 'DAY', 'DAY_OF_WEEK', 'DEPARTURE_TIME', 'DEPARTURE_DELAY','SCHEDULED_TIME','DISTANCE']]\n",
    "df5['Hour'] = pd.to_datetime(df5['DEPARTURE_TIME']).dt.hour\n",
    "df5['Minute'] = pd.to_datetime(df5['DEPARTURE_TIME']).dt.minute\n",
    "df5 = df5.drop(['DEPARTURE_TIME'], axis=1)"
   ]
  },
  {
   "cell_type": "code",
   "execution_count": 285,
   "metadata": {},
   "outputs": [
    {
     "data": {
      "text/html": [
       "<table class=\"simpletable\">\n",
       "<caption>OLS Regression Results</caption>\n",
       "<tr>\n",
       "  <th>Dep. Variable:</th>     <td>DEPARTURE_DELAY</td> <th>  R-squared:         </th>  <td>   0.056</td>  \n",
       "</tr>\n",
       "<tr>\n",
       "  <th>Model:</th>                   <td>OLS</td>       <th>  Adj. R-squared:    </th>  <td>   0.056</td>  \n",
       "</tr>\n",
       "<tr>\n",
       "  <th>Method:</th>             <td>Least Squares</td>  <th>  F-statistic:       </th>  <td>   248.9</td>  \n",
       "</tr>\n",
       "<tr>\n",
       "  <th>Date:</th>             <td>Sun, 23 May 2021</td> <th>  Prob (F-statistic):</th>  <td>2.28e-310</td> \n",
       "</tr>\n",
       "<tr>\n",
       "  <th>Time:</th>                 <td>07:08:35</td>     <th>  Log-Likelihood:    </th> <td>-1.2983e+05</td>\n",
       "</tr>\n",
       "<tr>\n",
       "  <th>No. Observations:</th>      <td> 25103</td>      <th>  AIC:               </th>  <td>2.597e+05</td> \n",
       "</tr>\n",
       "<tr>\n",
       "  <th>Df Residuals:</th>          <td> 25096</td>      <th>  BIC:               </th>  <td>2.597e+05</td> \n",
       "</tr>\n",
       "<tr>\n",
       "  <th>Df Model:</th>              <td>     6</td>      <th>                     </th>      <td> </td>     \n",
       "</tr>\n",
       "<tr>\n",
       "  <th>Covariance Type:</th>      <td>nonrobust</td>    <th>                     </th>      <td> </td>     \n",
       "</tr>\n",
       "</table>\n",
       "<table class=\"simpletable\">\n",
       "<tr>\n",
       "       <td></td>          <th>coef</th>     <th>std err</th>      <th>t</th>      <th>P>|t|</th>  <th>[0.025</th>    <th>0.975]</th>  \n",
       "</tr>\n",
       "<tr>\n",
       "  <th>const</th>       <td>    0.1021</td> <td>    1.383</td> <td>    0.074</td> <td> 0.941</td> <td>   -2.609</td> <td>    2.813</td>\n",
       "</tr>\n",
       "<tr>\n",
       "  <th>MONTH</th>       <td>   -1.4588</td> <td>    0.081</td> <td>  -18.006</td> <td> 0.000</td> <td>   -1.618</td> <td>   -1.300</td>\n",
       "</tr>\n",
       "<tr>\n",
       "  <th>DAY</th>         <td>   -0.0982</td> <td>    0.031</td> <td>   -3.194</td> <td> 0.001</td> <td>   -0.158</td> <td>   -0.038</td>\n",
       "</tr>\n",
       "<tr>\n",
       "  <th>DAY_OF_WEEK</th> <td>    0.2974</td> <td>    0.135</td> <td>    2.208</td> <td> 0.027</td> <td>    0.033</td> <td>    0.561</td>\n",
       "</tr>\n",
       "<tr>\n",
       "  <th>Hour</th>        <td>    1.9012</td> <td>    0.056</td> <td>   33.682</td> <td> 0.000</td> <td>    1.791</td> <td>    2.012</td>\n",
       "</tr>\n",
       "<tr>\n",
       "  <th>Minute</th>      <td>   -0.0303</td> <td>    0.014</td> <td>   -2.090</td> <td> 0.037</td> <td>   -0.059</td> <td>   -0.002</td>\n",
       "</tr>\n",
       "<tr>\n",
       "  <th>DISTANCE</th>    <td>   -0.0011</td> <td>    0.000</td> <td>   -3.025</td> <td> 0.002</td> <td>   -0.002</td> <td>   -0.000</td>\n",
       "</tr>\n",
       "</table>\n",
       "<table class=\"simpletable\">\n",
       "<tr>\n",
       "  <th>Omnibus:</th>       <td>33667.620</td> <th>  Durbin-Watson:     </th>   <td>   1.563</td>  \n",
       "</tr>\n",
       "<tr>\n",
       "  <th>Prob(Omnibus):</th>  <td> 0.000</td>   <th>  Jarque-Bera (JB):  </th> <td>13545712.246</td>\n",
       "</tr>\n",
       "<tr>\n",
       "  <th>Skew:</th>           <td> 7.466</td>   <th>  Prob(JB):          </th>   <td>    0.00</td>  \n",
       "</tr>\n",
       "<tr>\n",
       "  <th>Kurtosis:</th>       <td>115.817</td>  <th>  Cond. No.          </th>   <td>9.11e+03</td>  \n",
       "</tr>\n",
       "</table><br/><br/>Warnings:<br/>[1] Standard Errors assume that the covariance matrix of the errors is correctly specified.<br/>[2] The condition number is large, 9.11e+03. This might indicate that there are<br/>strong multicollinearity or other numerical problems."
      ],
      "text/plain": [
       "<class 'statsmodels.iolib.summary.Summary'>\n",
       "\"\"\"\n",
       "                            OLS Regression Results                            \n",
       "==============================================================================\n",
       "Dep. Variable:        DEPARTURE_DELAY   R-squared:                       0.056\n",
       "Model:                            OLS   Adj. R-squared:                  0.056\n",
       "Method:                 Least Squares   F-statistic:                     248.9\n",
       "Date:                Sun, 23 May 2021   Prob (F-statistic):          2.28e-310\n",
       "Time:                        07:08:35   Log-Likelihood:            -1.2983e+05\n",
       "No. Observations:               25103   AIC:                         2.597e+05\n",
       "Df Residuals:                   25096   BIC:                         2.597e+05\n",
       "Df Model:                           6                                         \n",
       "Covariance Type:            nonrobust                                         \n",
       "===============================================================================\n",
       "                  coef    std err          t      P>|t|      [0.025      0.975]\n",
       "-------------------------------------------------------------------------------\n",
       "const           0.1021      1.383      0.074      0.941      -2.609       2.813\n",
       "MONTH          -1.4588      0.081    -18.006      0.000      -1.618      -1.300\n",
       "DAY            -0.0982      0.031     -3.194      0.001      -0.158      -0.038\n",
       "DAY_OF_WEEK     0.2974      0.135      2.208      0.027       0.033       0.561\n",
       "Hour            1.9012      0.056     33.682      0.000       1.791       2.012\n",
       "Minute         -0.0303      0.014     -2.090      0.037      -0.059      -0.002\n",
       "DISTANCE       -0.0011      0.000     -3.025      0.002      -0.002      -0.000\n",
       "==============================================================================\n",
       "Omnibus:                    33667.620   Durbin-Watson:                   1.563\n",
       "Prob(Omnibus):                  0.000   Jarque-Bera (JB):         13545712.246\n",
       "Skew:                           7.466   Prob(JB):                         0.00\n",
       "Kurtosis:                     115.817   Cond. No.                     9.11e+03\n",
       "==============================================================================\n",
       "\n",
       "Warnings:\n",
       "[1] Standard Errors assume that the covariance matrix of the errors is correctly specified.\n",
       "[2] The condition number is large, 9.11e+03. This might indicate that there are\n",
       "strong multicollinearity or other numerical problems.\n",
       "\"\"\""
      ]
     },
     "execution_count": 285,
     "metadata": {},
     "output_type": "execute_result"
    }
   ],
   "source": [
    "df5.dropna(axis=0,how = \"any\",inplace=True)\n",
    "X = df5[['MONTH', 'DAY', 'DAY_OF_WEEK','Hour', 'Minute', 'DISTANCE']]\n",
    "Y = df5['DEPARTURE_DELAY']\n",
    "X = sm.add_constant(X)\n",
    "model = sm.OLS(Y, X).fit()\n",
    "Yhat = model.predict(X) \n",
    "model.summary()"
   ]
  },
  {
   "cell_type": "code",
   "execution_count": null,
   "metadata": {},
   "outputs": [],
   "source": []
  }
 ],
 "metadata": {
  "kernelspec": {
   "display_name": "Python 3",
   "language": "python",
   "name": "python3"
  },
  "language_info": {
   "codemirror_mode": {
    "name": "ipython",
    "version": 3
   },
   "file_extension": ".py",
   "mimetype": "text/x-python",
   "name": "python",
   "nbconvert_exporter": "python",
   "pygments_lexer": "ipython3",
   "version": "3.8.3"
  }
 },
 "nbformat": 4,
 "nbformat_minor": 4
}
